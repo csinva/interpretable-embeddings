{
 "cells": [
  {
   "cell_type": "code",
   "execution_count": null,
   "metadata": {},
   "outputs": [],
   "source": [
    "%load_ext autoreload\n",
    "%autoreload 2\n",
    "import numpy as np\n",
    "from sklearn.feature_extraction.text import TfidfVectorizer\n",
    "from sklearn.metrics.pairwise import cosine_similarity\n",
    "from sklearn.preprocessing import normalize\n",
    "from sklearn.model_selection import train_test_split\n",
    "import json\n",
    "import pandas as pd\n",
    "import os.path\n",
    "from os.path import join, expanduser\n",
    "from torch.utils.data import Dataset\n",
    "from torch import nn\n",
    "import torch.optim\n",
    "from fit_mteb_pytorch import *"
   ]
  },
  {
   "cell_type": "code",
   "execution_count": null,
   "metadata": {},
   "outputs": [],
   "source": [
    "# Load embeddings for corpus and queries\n",
    "dset = MiniMarcoDataset()\n",
    "query_ids_train, query_ids_test = train_test_split(\n",
    "    dset.query_ids, random_state=1, test_size=0.2)"
   ]
  },
  {
   "cell_type": "code",
   "execution_count": null,
   "metadata": {},
   "outputs": [],
   "source": [
    "# tfidf\n",
    "embs_qa, embs_tfidf, labels = dset[query_ids_test]\n",
    "mrr, mtop1 = evaluate_retrieval(\n",
    "    embs_tfidf, dset.embs_tfidf_corpus_df.values,\n",
    "    labels=labels, corpus_ids=dset.corpus_ids)\n",
    "print(f'TF-IDF Test: {mrr=:.2f}, {mtop1=:.2f}')\n",
    "mrr, mtop1 = evaluate_retrieval(\n",
    "    embs_qa, dset.embs_qa_corpus_df.values,\n",
    "    labels=labels, corpus_ids=dset.corpus_ids)\n",
    "print(f'QA Test: {mrr=:.2f}, {mtop1=:.2f}')"
   ]
  },
  {
   "cell_type": "code",
   "execution_count": null,
   "metadata": {},
   "outputs": [],
   "source": [
    "embs_qa, _, labels = dset[query_ids_train]\n",
    "embs_qa_similar = np.vstack(\n",
    "    [dset.embs_qa_corpus_df.loc[lab[0]].values for lab in labels])\n",
    "\n",
    "\n",
    "# put all data on GPU\n",
    "device = 'cuda'\n",
    "embs_qa = torch.tensor(embs_qa, dtype=torch.float).to(device)\n",
    "embs_qa_similar = torch.tensor(embs_qa_similar, dtype=torch.float).to(device)\n",
    "embs_qa_test, _, labels_test = dset[query_ids_test]\n",
    "embs_qa_test = torch.tensor(embs_qa_test, dtype=torch.float).to(device)\n",
    "\n",
    "\n",
    "model = LinearMapping(embs_qa.shape[1], embs_qa_similar.shape[1]).to('cuda')\n",
    "criterion = nn.MSELoss()\n",
    "optimizer = torch.optim.Adam(model.parameters(), lr=0.01)\n",
    "\n",
    "for epoch in range(100):\n",
    "    with torch.no_grad():\n",
    "        # evaluate train\n",
    "        output = model(embs_qa)\n",
    "        mrr, mtop1 = evaluate_retrieval(\n",
    "            output.cpu().detach().numpy(), dset.embs_qa_corpus_df.values,\n",
    "            labels=labels, corpus_ids=dset.corpus_ids)\n",
    "        print(f'\\tQA Train: {mrr=:.3f}, {mtop1=:.3f}')\n",
    "\n",
    "        # evaluate test\n",
    "        output = model(embs_qa_test)\n",
    "        mrr, mtop1 = evaluate_retrieval(\n",
    "            output.cpu().detach().numpy(), dset.embs_qa_corpus_df.values,\n",
    "            labels=labels_test, corpus_ids=dset.corpus_ids)\n",
    "        print(f'\\tQA Test: {mrr=:.3f}, {mtop1=:.3f}')\n",
    "\n",
    "    # sample new neg examples\n",
    "    embs_qa_dissimilar = np.vstack(\n",
    "        [dset.embs_qa_corpus_df.loc[dset.get_random_neg_corpus_id(q)].values for q in query_ids_train])\n",
    "    embs_qa_dissimilar = torch.tensor(\n",
    "        embs_qa_dissimilar, dtype=torch.float).to(device)\n",
    "\n",
    "    model.train()\n",
    "    optimizer.zero_grad()\n",
    "    output = model(embs_qa)\n",
    "    loss = criterion(output, embs_qa_similar) - 0.1 * \\\n",
    "        criterion(output, embs_qa_dissimilar)\n",
    "    loss.backward()\n",
    "    optimizer.step()\n",
    "    print(f'Epoch {epoch} Loss {loss.item()}')"
   ]
  },
  {
   "cell_type": "code",
   "execution_count": null,
   "metadata": {},
   "outputs": [],
   "source": []
  }
 ],
 "metadata": {
  "kernelspec": {
   "display_name": ".venv",
   "language": "python",
   "name": "python3"
  },
  "language_info": {
   "codemirror_mode": {
    "name": "ipython",
    "version": 3
   },
   "file_extension": ".py",
   "mimetype": "text/x-python",
   "name": "python",
   "nbconvert_exporter": "python",
   "pygments_lexer": "ipython3",
   "version": "3.11.9"
  }
 },
 "nbformat": 4,
 "nbformat_minor": 2
}
