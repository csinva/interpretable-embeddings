{
 "cells": [
  {
   "cell_type": "code",
   "execution_count": 1,
   "id": "0a3122c8",
   "metadata": {},
   "outputs": [
    {
     "data": {
      "text/plain": [
       "'/Users/johnmorris/Projects/interpretable-embeddings/scripts/d3/out/d3_16_hillary.csv'"
      ]
     },
     "execution_count": 1,
     "metadata": {},
     "output_type": "execute_result"
    }
   ],
   "source": [
    "import glob\n",
    "import os\n",
    "\n",
    "import pandas as pd\n",
    "\n",
    "folder = \"/Users/johnmorris/Projects/interpretable-embeddings/scripts/d3/out\"\n",
    "paths = glob.glob(os.path.join(folder, \"d3_*.csv\"))\n",
    "\n",
    "paths[0]"
   ]
  },
  {
   "cell_type": "code",
   "execution_count": 2,
   "id": "a75f710a",
   "metadata": {},
   "outputs": [],
   "source": [
    "def read_csv(path):\n",
    "    lines = open(path).readlines()\n",
    "    lines = lines[7:] # discard header\n",
    "    all_data = []\n",
    "    for line in lines:\n",
    "        idx, data_str = eval(line) \n",
    "        all_data.append(eval(data_str))\n",
    "    return pd.DataFrame(all_data, columns=['task', 'idx', 'true_label', 'pred_label', 'answer', 'model'])\n",
    "    \n",
    "dfs = [read_csv(path) for path in paths]\n",
    "df = pd.concat(dfs)"
   ]
  },
  {
   "cell_type": "code",
   "execution_count": 3,
   "id": "0b3ba41a",
   "metadata": {},
   "outputs": [
    {
     "data": {
      "text/html": [
       "<div>\n",
       "<style scoped>\n",
       "    .dataframe tbody tr th:only-of-type {\n",
       "        vertical-align: middle;\n",
       "    }\n",
       "\n",
       "    .dataframe tbody tr th {\n",
       "        vertical-align: top;\n",
       "    }\n",
       "\n",
       "    .dataframe thead th {\n",
       "        text-align: right;\n",
       "    }\n",
       "</style>\n",
       "<table border=\"1\" class=\"dataframe\">\n",
       "  <thead>\n",
       "    <tr style=\"text-align: right;\">\n",
       "      <th></th>\n",
       "      <th>task</th>\n",
       "      <th>idx</th>\n",
       "      <th>true_label</th>\n",
       "      <th>pred_label</th>\n",
       "      <th>answer</th>\n",
       "      <th>model</th>\n",
       "      <th>correct</th>\n",
       "    </tr>\n",
       "  </thead>\n",
       "  <tbody>\n",
       "    <tr>\n",
       "      <th>0</th>\n",
       "      <td>d3_16_hillary</td>\n",
       "      <td>143</td>\n",
       "      <td>0</td>\n",
       "      <td>1</td>\n",
       "      <td>yes</td>\n",
       "      <td>openai</td>\n",
       "      <td>False</td>\n",
       "    </tr>\n",
       "    <tr>\n",
       "      <th>1</th>\n",
       "      <td>d3_16_hillary</td>\n",
       "      <td>143</td>\n",
       "      <td>0</td>\n",
       "      <td>0</td>\n",
       "      <td>no</td>\n",
       "      <td>meta</td>\n",
       "      <td>True</td>\n",
       "    </tr>\n",
       "    <tr>\n",
       "      <th>2</th>\n",
       "      <td>d3_16_hillary</td>\n",
       "      <td>143</td>\n",
       "      <td>0</td>\n",
       "      <td>0</td>\n",
       "      <td>no</td>\n",
       "      <td>mistral</td>\n",
       "      <td>True</td>\n",
       "    </tr>\n",
       "    <tr>\n",
       "      <th>3</th>\n",
       "      <td>d3_16_hillary</td>\n",
       "      <td>143</td>\n",
       "      <td>0</td>\n",
       "      <td>0</td>\n",
       "      <td>no</td>\n",
       "      <td>gpt4</td>\n",
       "      <td>True</td>\n",
       "    </tr>\n",
       "    <tr>\n",
       "      <th>4</th>\n",
       "      <td>d3_16_hillary</td>\n",
       "      <td>5</td>\n",
       "      <td>1</td>\n",
       "      <td>1</td>\n",
       "      <td>yes</td>\n",
       "      <td>mistral</td>\n",
       "      <td>True</td>\n",
       "    </tr>\n",
       "  </tbody>\n",
       "</table>\n",
       "</div>"
      ],
      "text/plain": [
       "            task  idx  true_label  pred_label answer    model  correct\n",
       "0  d3_16_hillary  143           0           1    yes   openai    False\n",
       "1  d3_16_hillary  143           0           0     no     meta     True\n",
       "2  d3_16_hillary  143           0           0     no  mistral     True\n",
       "3  d3_16_hillary  143           0           0     no     gpt4     True\n",
       "4  d3_16_hillary    5           1           1    yes  mistral     True"
      ]
     },
     "execution_count": 3,
     "metadata": {},
     "output_type": "execute_result"
    }
   ],
   "source": [
    "df['correct']  = df['true_label'] == df['pred_label']\n",
    "df.head()"
   ]
  },
  {
   "cell_type": "code",
   "execution_count": 4,
   "id": "1019ee93",
   "metadata": {},
   "outputs": [
    {
     "data": {
      "text/plain": [
       "model\n",
       "gpt4       0.817391\n",
       "meta       0.795652\n",
       "mistral    0.808696\n",
       "openai     0.813043\n",
       "Name: correct, dtype: float64"
      ]
     },
     "execution_count": 4,
     "metadata": {},
     "output_type": "execute_result"
    }
   ],
   "source": [
    "df.groupby('model')['correct'].mean()"
   ]
  },
  {
   "cell_type": "code",
   "execution_count": 5,
   "id": "e31b9003",
   "metadata": {},
   "outputs": [
    {
     "data": {
      "text/plain": [
       "model   task                \n",
       "gpt4    d3_0_irony              0.90\n",
       "        d3_10_infrastructure    0.65\n",
       "        d3_13_water             0.85\n",
       "        d3_14_search            0.45\n",
       "        d3_15_utility           0.70\n",
       "                                ... \n",
       "openai  d3_5_evacuate           0.80\n",
       "        d3_6_terorrism          0.95\n",
       "        d3_7_crime              0.80\n",
       "        d3_8_shelter            0.80\n",
       "        d3_9_food               0.80\n",
       "Name: correct, Length: 184, dtype: float64"
      ]
     },
     "execution_count": 5,
     "metadata": {},
     "output_type": "execute_result"
    }
   ],
   "source": [
    "df.groupby(['model', 'task'])['correct'].mean()"
   ]
  },
  {
   "cell_type": "code",
   "execution_count": 6,
   "id": "ec008c4b",
   "metadata": {},
   "outputs": [
    {
     "data": {
      "text/plain": [
       "model\n",
       "gpt4       0.012744\n",
       "meta       0.013301\n",
       "mistral    0.012975\n",
       "openai     0.012861\n",
       "Name: correct, dtype: float64"
      ]
     },
     "execution_count": 6,
     "metadata": {},
     "output_type": "execute_result"
    }
   ],
   "source": [
    "df.groupby(['model'])['correct'].sem()"
   ]
  },
  {
   "cell_type": "code",
   "execution_count": 9,
   "id": "d86265dc",
   "metadata": {},
   "outputs": [
    {
     "name": "stdout",
     "output_type": "stream",
     "text": [
      "openai 0.7712765957446809\n",
      "meta 0.7614213197969543\n",
      "mistral 0.7628032345013477\n",
      "gpt4 0.78125\n"
     ]
    }
   ],
   "source": [
    "import sklearn\n",
    "import sklearn.metrics\n",
    "\n",
    "for model in df['model'].unique():\n",
    "    model_df = df[df['model'] == model]\n",
    "    print(model, sklearn.metrics.f1_score(model_df['true_label'], model_df['pred_label']))"
   ]
  },
  {
   "cell_type": "code",
   "execution_count": 8,
   "id": "dac807c3",
   "metadata": {},
   "outputs": [
    {
     "data": {
      "text/plain": [
       "'\\\\begin{tabular}{lrrrr}\\n\\\\toprule\\nmodel & gpt4 & meta & mistral & openai \\\\\\\\\\ntask &  &  &  &  \\\\\\\\\\n\\\\midrule\\nd3_0_irony & 0.900000 & 0.750000 & 0.900000 & 0.800000 \\\\\\\\\\nd3_10_infrastructure & 0.650000 & 0.550000 & 0.700000 & 0.650000 \\\\\\\\\\nd3_13_water & 0.850000 & 0.800000 & 0.800000 & 0.800000 \\\\\\\\\\nd3_14_search & 0.450000 & 0.500000 & 0.450000 & 0.700000 \\\\\\\\\\nd3_15_utility & 0.700000 & 0.550000 & 0.650000 & 0.600000 \\\\\\\\\\nd3_16_hillary & 0.800000 & 0.800000 & 0.800000 & 0.850000 \\\\\\\\\\nd3_17_hillary & 0.950000 & 0.950000 & 1.000000 & 1.000000 \\\\\\\\\\nd3_18_offensive & 0.600000 & 0.550000 & 0.550000 & 0.700000 \\\\\\\\\\nd3_19_offensive & 0.650000 & 0.650000 & 0.700000 & 0.600000 \\\\\\\\\\nd3_1_objective & 0.950000 & 0.750000 & 0.850000 & 0.650000 \\\\\\\\\\nd3_20_pro-life & 0.700000 & 0.900000 & 0.750000 & 0.700000 \\\\\\\\\\nd3_21_pro-choice & 0.900000 & 0.950000 & 0.900000 & 0.950000 \\\\\\\\\\nd3_25_math & 0.700000 & 0.900000 & 0.800000 & 0.650000 \\\\\\\\\\nd3_27_grammar & 0.750000 & 0.750000 & 0.800000 & 0.800000 \\\\\\\\\\nd3_28_sexis & 0.500000 & 0.750000 & 0.550000 & 0.550000 \\\\\\\\\\nd3_29_sexis & 0.800000 & 0.700000 & 0.800000 & 0.700000 \\\\\\\\\\nd3_2_subjective & 1.000000 & 0.900000 & 0.950000 & 0.750000 \\\\\\\\\\nd3_30_news & 0.900000 & 0.850000 & 0.900000 & 0.950000 \\\\\\\\\\nd3_31_sports & 1.000000 & 0.900000 & 0.900000 & 1.000000 \\\\\\\\\\nd3_32_business & 0.850000 & 0.850000 & 0.750000 & 0.900000 \\\\\\\\\\nd3_33_tech & 0.800000 & 0.850000 & 0.800000 & 0.800000 \\\\\\\\\\nd3_34_bad & 0.950000 & 0.900000 & 1.000000 & 0.950000 \\\\\\\\\\nd3_35_good & 1.000000 & 1.000000 & 1.000000 & 1.000000 \\\\\\\\\\nd3_36_quantity & 1.000000 & 1.000000 & 0.900000 & 1.000000 \\\\\\\\\\nd3_37_location & 0.950000 & 0.850000 & 0.950000 & 0.950000 \\\\\\\\\\nd3_38_person & 0.950000 & 0.950000 & 1.000000 & 1.000000 \\\\\\\\\\nd3_39_entity & 0.450000 & 0.350000 & 0.300000 & 0.350000 \\\\\\\\\\nd3_3_god & 0.750000 & 0.650000 & 0.650000 & 0.600000 \\\\\\\\\\nd3_40_abbrevation & 1.000000 & 1.000000 & 1.000000 & 0.950000 \\\\\\\\\\nd3_42_environment & 1.000000 & 0.900000 & 0.800000 & 0.850000 \\\\\\\\\\nd3_43_environment & 0.900000 & 1.000000 & 0.900000 & 0.950000 \\\\\\\\\\nd3_44_spam & 1.000000 & 0.900000 & 0.950000 & 1.000000 \\\\\\\\\\nd3_45_fact & 0.700000 & 0.700000 & 0.650000 & 0.700000 \\\\\\\\\\nd3_46_opinion & 0.550000 & 0.450000 & 0.600000 & 0.550000 \\\\\\\\\\nd3_47_math & 0.750000 & 0.850000 & 0.900000 & 0.850000 \\\\\\\\\\nd3_49_computer & 0.800000 & 0.700000 & 0.850000 & 0.850000 \\\\\\\\\\nd3_4_atheism & 0.950000 & 0.950000 & 0.850000 & 0.900000 \\\\\\\\\\nd3_50_sport & 1.000000 & 0.950000 & 1.000000 & 1.000000 \\\\\\\\\\nd3_51_entertainment & 0.800000 & 0.850000 & 0.850000 & 0.850000 \\\\\\\\\\nd3_52_family & 0.850000 & 0.850000 & 0.950000 & 0.950000 \\\\\\\\\\nd3_53_politic & 0.900000 & 0.900000 & 0.900000 & 0.900000 \\\\\\\\\\nd3_5_evacuate & 0.700000 & 0.650000 & 0.800000 & 0.800000 \\\\\\\\\\nd3_6_terorrism & 0.950000 & 0.900000 & 0.950000 & 0.950000 \\\\\\\\\\nd3_7_crime & 0.800000 & 0.750000 & 0.800000 & 0.800000 \\\\\\\\\\nd3_8_shelter & 0.850000 & 0.850000 & 0.750000 & 0.800000 \\\\\\\\\\nd3_9_food & 0.650000 & 0.600000 & 0.600000 & 0.800000 \\\\\\\\\\n\\\\bottomrule\\n\\\\end{tabular}\\n'"
      ]
     },
     "execution_count": 8,
     "metadata": {},
     "output_type": "execute_result"
    }
   ],
   "source": [
    "df.groupby(['model', 'task'])['correct'].mean().reset_index().pivot(index='task', columns='model', values='correct').to_latex()"
   ]
  },
  {
   "cell_type": "code",
   "execution_count": null,
   "id": "ecd5ea25",
   "metadata": {},
   "outputs": [],
   "source": []
  }
 ],
 "metadata": {
  "kernelspec": {
   "display_name": "Python 3 (ipykernel)",
   "language": "python",
   "name": "python3"
  },
  "language_info": {
   "codemirror_mode": {
    "name": "ipython",
    "version": 3
   },
   "file_extension": ".py",
   "mimetype": "text/x-python",
   "name": "python",
   "nbconvert_exporter": "python",
   "pygments_lexer": "ipython3",
   "version": "3.9.6"
  }
 },
 "nbformat": 4,
 "nbformat_minor": 5
}
