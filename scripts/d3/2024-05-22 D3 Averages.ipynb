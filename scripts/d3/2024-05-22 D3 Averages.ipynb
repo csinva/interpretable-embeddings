{
 "cells": [
  {
   "cell_type": "code",
   "execution_count": 22,
   "id": "0a3122c8",
   "metadata": {},
   "outputs": [
    {
     "data": {
      "text/plain": [
       "'out/d3_34_bad.csv'"
      ]
     },
     "execution_count": 22,
     "metadata": {},
     "output_type": "execute_result"
    }
   ],
   "source": [
    "import glob\n",
    "import os\n",
    "import pandas as pd\n",
    "import sklearn\n",
    "import sklearn.metrics\n",
    "import seaborn as sns\n",
    "import matplotlib.pyplot as plt\n",
    "\n",
    "# folder = \"/Users/johnmorris/Projects/interpretable-embeddings/scripts/d3/out\"\n",
    "folder = 'out'\n",
    "paths = glob.glob(os.path.join(folder, \"d3_*.csv\"))\n",
    "\n",
    "paths[0]"
   ]
  },
  {
   "cell_type": "code",
   "execution_count": 23,
   "id": "a75f710a",
   "metadata": {},
   "outputs": [
    {
     "name": "stderr",
     "output_type": "stream",
     "text": [
      "/tmp/ipykernel_3819151/830255380.py:28: SettingWithCopyWarning: \n",
      "A value is trying to be set on a copy of a slice from a DataFrame.\n",
      "Try using .loc[row_indexer,col_indexer] = value instead\n",
      "\n",
      "See the caveats in the documentation: https://pandas.pydata.org/pandas-docs/stable/user_guide/indexing.html#returning-a-view-versus-a-copy\n",
      "  d_ens['model'] = 'ensemble'\n",
      "/tmp/ipykernel_3819151/830255380.py:29: SettingWithCopyWarning: \n",
      "A value is trying to be set on a copy of a slice from a DataFrame.\n",
      "Try using .loc[row_indexer,col_indexer] = value instead\n",
      "\n",
      "See the caveats in the documentation: https://pandas.pydata.org/pandas-docs/stable/user_guide/indexing.html#returning-a-view-versus-a-copy\n",
      "  d_ens['pred_label'] = d_ens['majority_vote']\n"
     ]
    }
   ],
   "source": [
    "def read_csv(path):\n",
    "    lines = open(path).readlines()\n",
    "    lines = lines[7:]  # discard header\n",
    "    all_data = []\n",
    "    for line in lines:\n",
    "        idx, data_str = eval(line)\n",
    "        all_data.append(eval(data_str))\n",
    "    return pd.DataFrame(all_data, columns=['task', 'idx', 'true_label', 'pred_label', 'answer', 'model'])\n",
    "\n",
    "\n",
    "dfs = [read_csv(path) for path in paths]\n",
    "df = pd.concat(dfs)\n",
    "\n",
    "# add example_len\n",
    "df['example_len'] = None\n",
    "for task in df.task.unique():\n",
    "    task_str = '_'.join(task.split('_')[:-1])\n",
    "    examples = pd.read_csv(f'd3_processed/{task_str}.csv')\n",
    "    examples['example_len'] = examples['input'].apply(lambda x: len(x.split()))\n",
    "    # set example_len for each task based on \"idx\" column\n",
    "    df.loc[df.task == task, 'example_len'] = df[df.task ==\n",
    "                                                task].idx.apply(lambda x: examples.loc[x].example_len)\n",
    "\n",
    "# add ensemble model\n",
    "df['majority_vote'] = df.groupby(['task', 'idx'])['pred_label'].transform(\n",
    "    lambda x: x.value_counts().idxmax())\n",
    "d_ens = df[df.model == 'meta']\n",
    "d_ens['model'] = 'ensemble'\n",
    "d_ens['pred_label'] = d_ens['majority_vote']\n",
    "df = pd.concat([df, d_ens])\n",
    "\n",
    "df['correct'] = df['true_label'] == df['pred_label']"
   ]
  },
  {
   "cell_type": "code",
   "execution_count": 24,
   "id": "cb4722aa",
   "metadata": {},
   "outputs": [
    {
     "data": {
      "text/plain": [
       "50.44594074644094"
      ]
     },
     "execution_count": 24,
     "metadata": {},
     "output_type": "execute_result"
    }
   ],
   "source": [
    "df['example_len'].mean()"
   ]
  },
  {
   "cell_type": "code",
   "execution_count": 3,
   "id": "1019ee93",
   "metadata": {},
   "outputs": [
    {
     "data": {
      "text/plain": [
       "model\n",
       "ensemble    0.768950\n",
       "meta        0.765487\n",
       "mistral     0.763563\n",
       "openai      0.737207\n",
       "Name: correct, dtype: float64"
      ]
     },
     "execution_count": 3,
     "metadata": {},
     "output_type": "execute_result"
    }
   ],
   "source": [
    "df.groupby('model')['correct'].mean()\n",
    "# df[df.example_len <= 100000].groupby('model')['correct'].mean()"
   ]
  },
  {
   "cell_type": "code",
   "execution_count": 21,
   "id": "e31b9003",
   "metadata": {},
   "outputs": [
    {
     "data": {
      "text/html": [
       "<div>\n",
       "<style scoped>\n",
       "    .dataframe tbody tr th:only-of-type {\n",
       "        vertical-align: middle;\n",
       "    }\n",
       "\n",
       "    .dataframe tbody tr th {\n",
       "        vertical-align: top;\n",
       "    }\n",
       "\n",
       "    .dataframe thead th {\n",
       "        text-align: right;\n",
       "    }\n",
       "</style>\n",
       "<table border=\"1\" class=\"dataframe\">\n",
       "  <thead>\n",
       "    <tr style=\"text-align: right;\">\n",
       "      <th></th>\n",
       "      <th>model</th>\n",
       "      <th>task</th>\n",
       "      <th>correct</th>\n",
       "    </tr>\n",
       "  </thead>\n",
       "  <tbody>\n",
       "    <tr>\n",
       "      <th>0</th>\n",
       "      <td>LLaMA-3 (8B)</td>\n",
       "      <td>d3_0_irony</td>\n",
       "      <td>0.58</td>\n",
       "    </tr>\n",
       "    <tr>\n",
       "      <th>1</th>\n",
       "      <td>LLaMA-3 (8B)</td>\n",
       "      <td>d3_10_infrastructure</td>\n",
       "      <td>0.82</td>\n",
       "    </tr>\n",
       "    <tr>\n",
       "      <th>2</th>\n",
       "      <td>LLaMA-3 (8B)</td>\n",
       "      <td>d3_12_medical</td>\n",
       "      <td>0.85</td>\n",
       "    </tr>\n",
       "    <tr>\n",
       "      <th>3</th>\n",
       "      <td>LLaMA-3 (8B)</td>\n",
       "      <td>d3_13_water</td>\n",
       "      <td>0.87</td>\n",
       "    </tr>\n",
       "    <tr>\n",
       "      <th>4</th>\n",
       "      <td>LLaMA-3 (8B)</td>\n",
       "      <td>d3_14_search</td>\n",
       "      <td>0.85</td>\n",
       "    </tr>\n",
       "    <tr>\n",
       "      <th>...</th>\n",
       "      <td>...</td>\n",
       "      <td>...</td>\n",
       "      <td>...</td>\n",
       "    </tr>\n",
       "    <tr>\n",
       "      <th>151</th>\n",
       "      <td>ChatGPT</td>\n",
       "      <td>d3_5_evacuate</td>\n",
       "      <td>0.83</td>\n",
       "    </tr>\n",
       "    <tr>\n",
       "      <th>152</th>\n",
       "      <td>ChatGPT</td>\n",
       "      <td>d3_6_terorrism</td>\n",
       "      <td>0.95</td>\n",
       "    </tr>\n",
       "    <tr>\n",
       "      <th>153</th>\n",
       "      <td>ChatGPT</td>\n",
       "      <td>d3_7_crime</td>\n",
       "      <td>0.83</td>\n",
       "    </tr>\n",
       "    <tr>\n",
       "      <th>154</th>\n",
       "      <td>ChatGPT</td>\n",
       "      <td>d3_8_shelter</td>\n",
       "      <td>0.84</td>\n",
       "    </tr>\n",
       "    <tr>\n",
       "      <th>155</th>\n",
       "      <td>ChatGPT</td>\n",
       "      <td>d3_9_food</td>\n",
       "      <td>0.87</td>\n",
       "    </tr>\n",
       "  </tbody>\n",
       "</table>\n",
       "<p>156 rows × 3 columns</p>\n",
       "</div>"
      ],
      "text/plain": [
       "            model                  task  correct\n",
       "0    LLaMA-3 (8B)            d3_0_irony     0.58\n",
       "1    LLaMA-3 (8B)  d3_10_infrastructure     0.82\n",
       "2    LLaMA-3 (8B)         d3_12_medical     0.85\n",
       "3    LLaMA-3 (8B)           d3_13_water     0.87\n",
       "4    LLaMA-3 (8B)          d3_14_search     0.85\n",
       "..            ...                   ...      ...\n",
       "151       ChatGPT         d3_5_evacuate     0.83\n",
       "152       ChatGPT        d3_6_terorrism     0.95\n",
       "153       ChatGPT            d3_7_crime     0.83\n",
       "154       ChatGPT          d3_8_shelter     0.84\n",
       "155       ChatGPT             d3_9_food     0.87\n",
       "\n",
       "[156 rows x 3 columns]"
      ]
     },
     "metadata": {},
     "output_type": "display_data"
    },
    {
     "data": {
      "image/png": "[encoded data removed]",
      "text/plain": [
       "<Figure size 1000x500 with 1 Axes>"
      ]
     },
     "metadata": {},
     "output_type": "display_data"
    }
   ],
   "source": [
    "sns.set_context('talk')\n",
    "d_plot = df\n",
    "# d_plot = df[df.example_len <= 1000]\n",
    "d_plot = d_plot[~d_plot.model.isin(['ensemble'])]\n",
    "d_plot = d_plot.groupby(['model', 'task'])['correct'].mean().reset_index()\n",
    "d_plot['correct'] = d_plot['correct'].apply(lambda x: max(x, 1 - x))\n",
    "d_plot['model'] = d_plot['model'].apply(lambda x:\n",
    "                                        {'meta': 'LLaMA-3 (8B)', 'ensemble': 'Ensemble', 'mistral': 'Mistral (7B)', 'openai': 'ChatGPT'}.get(x, x))\n",
    "display(d_plot)\n",
    "\n",
    "# plot boxplot where each point is a task\n",
    "plt.figure(figsize=(10, 5))\n",
    "sns.barplot(x='model', y='correct', data=d_plot,\n",
    "            estimator='median', errorbar=('ci', 95), err_kws={'color': 'black'}, capsize=0.1, alpha=0.3)\n",
    "\n",
    "# show points\n",
    "sns.stripplot(x='model', y='correct', data=d_plot, color='gray', alpha=0.5)\n",
    "sns.despine()\n",
    "plt.xlabel('Question-answering LLM')\n",
    "plt.ylabel('Accuracy')\n",
    "plt.savefig('d3_accuracy.pdf', bbox_inches='tight')\n",
    "plt.show()"
   ]
  },
  {
   "cell_type": "code",
   "execution_count": null,
   "id": "ec008c4b",
   "metadata": {},
   "outputs": [],
   "source": [
    "df.groupby(['model'])['correct'].sem()"
   ]
  },
  {
   "cell_type": "code",
   "execution_count": null,
   "id": "d86265dc",
   "metadata": {},
   "outputs": [],
   "source": [
    "for model in df['model'].unique():\n",
    "    model_df = df[df['model'] == model]\n",
    "    print(model, sklearn.metrics.f1_score(\n",
    "        model_df['true_label'], model_df['pred_label']))"
   ]
  },
  {
   "cell_type": "code",
   "execution_count": null,
   "id": "dac807c3",
   "metadata": {},
   "outputs": [],
   "source": [
    "# .reset_index().pivot(index='task', columns='model', values='correct').to_latex()\n",
    "d = df.groupby(['model', 'task'])['correct'].mean().reset_index()"
   ]
  },
  {
   "cell_type": "code",
   "execution_count": null,
   "id": "b532f684",
   "metadata": {},
   "outputs": [],
   "source": [
    "d['correct'] = d['correct'].apply(lambda x: max(x, 1 - x))"
   ]
  },
  {
   "cell_type": "code",
   "execution_count": null,
   "id": "3c403a36",
   "metadata": {},
   "outputs": [],
   "source": [
    "d.groupby('model')['correct'].mean()"
   ]
  },
  {
   "cell_type": "code",
   "execution_count": null,
   "id": "f4f3a336",
   "metadata": {},
   "outputs": [],
   "source": [
    "# fullly display d\n",
    "with pd.option_context('display.max_rows', None, 'display.max_columns', None):\n",
    "    display(d)"
   ]
  },
  {
   "cell_type": "code",
   "execution_count": null,
   "id": "e8600038",
   "metadata": {},
   "outputs": [],
   "source": []
  }
 ],
 "metadata": {
  "kernelspec": {
   "display_name": "Python 3 (ipykernel)",
   "language": "python",
   "name": "python3"
  },
  "language_info": {
   "codemirror_mode": {
    "name": "ipython",
    "version": 3
   },
   "file_extension": ".py",
   "mimetype": "text/x-python",
   "name": "python",
   "nbconvert_exporter": "python",
   "pygments_lexer": "ipython3",
   "version": "3.11.9"
  }
 },
 "nbformat": 4,
 "nbformat_minor": 5
}
