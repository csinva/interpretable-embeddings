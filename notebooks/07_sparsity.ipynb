{
 "cells": [
  {
   "cell_type": "code",
   "execution_count": null,
   "metadata": {},
   "outputs": [],
   "source": [
    "%load_ext autoreload\n",
    "%autoreload 2\n",
    "import sys\n",
    "sys.path.append('..')\n",
    "import imodelsx.llm\n",
    "from transformers import AutoModel, AutoTokenizer, pipeline\n",
    "from tqdm import tqdm\n",
    "from os.path import join\n",
    "# import config\n",
    "import numpy as np\n",
    "import joblib\n",
    "import seaborn as sns\n",
    "import matplotlib.pyplot as plt\n",
    "import analyze_helper\n",
    "from neuro.features import qa_questions\n",
    "# fit_encoding = __import__('01_fit_encoding')"
   ]
  },
  {
   "cell_type": "code",
   "execution_count": null,
   "metadata": {},
   "outputs": [],
   "source": [
    "(r, cols_varied, mets) = joblib.load('../results/results_aggregated_mini.pkl')"
   ]
  },
  {
   "cell_type": "markdown",
   "metadata": {},
   "source": [
    "# Check results"
   ]
  },
  {
   "cell_type": "code",
   "execution_count": null,
   "metadata": {},
   "outputs": [],
   "source": [
    "d = r\n",
    "d = d[d.feature_selection_alpha_index >= 0]\n",
    "d = d[r.distill_model_path.isna()]\n",
    "cols_varied = [c for c in cols_varied if not c in [\n",
    "    'distill_model_path']]\n",
    "# d = d[(d.qa_questions_version == 'v1') *\n",
    "#   (d.qa_embedding_model == 'mistral 7B')]\n",
    "if len(cols_varied) > 0:\n",
    "    d = d.groupby(cols_varied)[mets + ['weight_enet_mask_num_nonzero']].mean()\n",
    "else:\n",
    "    d = d[mets]\n",
    "\n",
    "(\n",
    "    d\n",
    "    # .sort_values(by='corrs_test_mean', ascending=False)\n",
    "    .sort_values(by='corrs_tune_pc_mean', ascending=False)\n",
    "    .rename(columns=lambda x: x.replace('_', ' ').replace('corrs', ''))\n",
    "    .style\n",
    "    .background_gradient(cmap='magma', axis=0)\n",
    "    .format(precision=3)\n",
    ")\n",
    "d = d.reset_index()"
   ]
  },
  {
   "cell_type": "code",
   "execution_count": null,
   "metadata": {},
   "outputs": [],
   "source": [
    "d = d[d.ndelays == 8]\n",
    "d = d[d.subject == 'S03']\n",
    "d = d[d.qa_embedding_model != 'mist-7B']\n",
    "\n",
    "d['(qa_questions_version, ndelays)'] = list(\n",
    "    zip(d.qa_questions_version, d.ndelays))\n",
    "d['feature_space'] = d['feature_space'].map(\n",
    "    lambda x: {'eng1000': 'Eng1000', 'qa_embedder-10': 'QA-Embs'}.get(x, x))\n",
    "plt.figure(figsize=(4.5, 3.2))\n",
    "ax = sns.lineplot(data=d,\n",
    "                  x='weight_enet_mask_num_nonzero',\n",
    "                  y='corrs_test_mean',\n",
    "                  #  hue='(qa_questions_version, ndelays)',\n",
    "                  hue_order=['QA-Embs', 'Eng1000'],\n",
    "                  hue='feature_space',\n",
    "                  palette=['C0', 'mediumseagreen'],\n",
    "                  linewidth=2.5,\n",
    "                  markersize=8,\n",
    "                  marker='o')\n",
    "\n",
    "# dvu.line_legend()\n",
    "# plt.title('B', loc=, fontweight='bold')\n",
    "plt.xlabel('Number of features')\n",
    "plt.ylabel('Test correlation')\n",
    "\n",
    "legend = ax.legend()\n",
    "ax.legend().set_title('')\n",
    "\n",
    "# set ylim bottom to 0.1\n",
    "plt.ylim(bottom=0.1)\n",
    "plt.grid()\n",
    "plt.tight_layout()\n",
    "plt.savefig('../figs/sparsity.pdf', bbox_inches='tight')\n",
    "plt.show()"
   ]
  },
  {
   "cell_type": "markdown",
   "metadata": {},
   "source": [
    "# Check sparsity levels"
   ]
  },
  {
   "cell_type": "code",
   "execution_count": null,
   "metadata": {},
   "outputs": [],
   "source": [
    "sparse_feats_dir = join(config.repo_dir, 'sparse_feats')"
   ]
  },
  {
   "cell_type": "code",
   "execution_count": null,
   "metadata": {},
   "outputs": [],
   "source": [
    "!ls {sparse_feats_dir}"
   ]
  },
  {
   "cell_type": "code",
   "execution_count": null,
   "metadata": {},
   "outputs": [],
   "source": [
    "alphas_enet, coefs_enet = joblib.load(\n",
    "    # join(sparse_feats_dir, 'v1_(0, -3, 15).joblib'))\n",
    "    join(sparse_feats_dir, 'v3_boostexamples_(0, -3, 15).joblib'))"
   ]
  },
  {
   "cell_type": "code",
   "execution_count": null,
   "metadata": {},
   "outputs": [],
   "source": [
    "for i in range(len(alphas_enet)):\n",
    "    coef_enet = coefs_enet[:, :, i]\n",
    "    coef_nonzero = np.any(np.abs(coef_enet) > 0, axis=0)\n",
    "    print(f'{i=} alpha={alphas_enet[i]:.2e}, n_nonzero={coef_nonzero.sum()}')"
   ]
  },
  {
   "cell_type": "markdown",
   "metadata": {},
   "source": [
    "### Top questions"
   ]
  },
  {
   "cell_type": "code",
   "execution_count": null,
   "metadata": {},
   "outputs": [],
   "source": [
    "d = r[r.ndelays == 8]\n",
    "row = d[(d.feature_selection_alpha_index == 3) *\n",
    "        d.feature_space == 'qa_embedder-10'].iloc[0]"
   ]
  },
  {
   "cell_type": "code",
   "execution_count": null,
   "metadata": {},
   "outputs": [],
   "source": [
    "row[['weights_enet', 'weight_enet_mask', 'weight_enet_mask_num_nonzero']]"
   ]
  },
  {
   "cell_type": "code",
   "execution_count": null,
   "metadata": {},
   "outputs": [],
   "source": [
    "model_params = joblib.load(\n",
    "    join(row.save_dir_unique, 'model_params.pkl'))"
   ]
  },
  {
   "cell_type": "code",
   "execution_count": null,
   "metadata": {},
   "outputs": [],
   "source": [
    "model_params['weights'].shape"
   ]
  },
  {
   "cell_type": "code",
   "execution_count": null,
   "metadata": {},
   "outputs": [],
   "source": [
    "ndelays = row.ndelays\n",
    "# weights = model_params['weights']\n",
    "weights = model_params['weights_pc']\n",
    "assert weights.shape[0] % ndelays == 0\n",
    "emb_size = weights.shape[0] / ndelays\n",
    "weights = weights.reshape(ndelays, int(emb_size), -1)"
   ]
  },
  {
   "cell_type": "code",
   "execution_count": null,
   "metadata": {},
   "outputs": [],
   "source": [
    "weights.shape"
   ]
  },
  {
   "cell_type": "code",
   "execution_count": null,
   "metadata": {},
   "outputs": [],
   "source": [
    "for i in range(29):\n",
    "    plt.plot(weights[:, i, 4])"
   ]
  },
  {
   "cell_type": "code",
   "execution_count": null,
   "metadata": {},
   "outputs": [],
   "source": [
    "for i in range(29):\n",
    "    plt.plot(np.abs(weights).mean(axis=-1)[:, i])\n",
    "plt.xlabel('Delay offset (TRs-1)')\n",
    "plt.show()"
   ]
  },
  {
   "cell_type": "code",
   "execution_count": null,
   "metadata": {},
   "outputs": [],
   "source": [
    "qs = np.array(qa_questions.get_questions(row.qa_questions_version, full=True))"
   ]
  },
  {
   "cell_type": "code",
   "execution_count": null,
   "metadata": {},
   "outputs": [],
   "source": [
    "mask = row.weight_enet_mask"
   ]
  },
  {
   "cell_type": "code",
   "execution_count": null,
   "metadata": {},
   "outputs": [],
   "source": [
    "qs[mask]"
   ]
  },
  {
   "cell_type": "code",
   "execution_count": null,
   "metadata": {},
   "outputs": [],
   "source": [
    "r['weight_enet_mask']"
   ]
  },
  {
   "cell_type": "code",
   "execution_count": null,
   "metadata": {},
   "outputs": [],
   "source": []
  }
 ],
 "metadata": {
  "kernelspec": {
   "display_name": "Python 3.8.10 ('.embgam')",
   "language": "python",
   "name": "python3"
  },
  "language_info": {
   "codemirror_mode": {
    "name": "ipython",
    "version": 3
   },
   "file_extension": ".py",
   "mimetype": "text/x-python",
   "name": "python",
   "nbconvert_exporter": "python",
   "pygments_lexer": "ipython3",
   "version": "3.11.9"
  },
  "orig_nbformat": 4,
  "vscode": {
   "interpreter": {
    "hash": "559535f78d940c882783b39501b2581b5193373045707e5f8a51d046029cfd38"
   }
  }
 },
 "nbformat": 4,
 "nbformat_minor": 2
}
